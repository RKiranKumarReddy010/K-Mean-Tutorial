{
 "cells": [
  {
   "cell_type": "code",
   "execution_count": 1,
   "id": "2b043225",
   "metadata": {
    "_cell_guid": "b1076dfc-b9ad-4769-8c92-a6c4dae69d19",
    "_uuid": "8f2839f25d086af736a60e9eeb907d3b93b6e0e5",
    "execution": {
     "iopub.execute_input": "2024-02-20T08:18:49.116268Z",
     "iopub.status.busy": "2024-02-20T08:18:49.115425Z",
     "iopub.status.idle": "2024-02-20T08:18:52.214917Z",
     "shell.execute_reply": "2024-02-20T08:18:52.213584Z"
    },
    "papermill": {
     "duration": 3.111185,
     "end_time": "2024-02-20T08:18:52.217518",
     "exception": false,
     "start_time": "2024-02-20T08:18:49.106333",
     "status": "completed"
    },
    "tags": []
   },
   "outputs": [],
   "source": [
    "import pandas as pd\n",
    "import numpy as np\n",
    "import matplotlib.pyplot as plt\n",
    "from sklearn.cluster import KMeans"
   ]
  },
  {
   "cell_type": "code",
   "execution_count": 2,
   "id": "17b4fbac",
   "metadata": {
    "execution": {
     "iopub.execute_input": "2024-02-20T08:18:52.234208Z",
     "iopub.status.busy": "2024-02-20T08:18:52.233310Z",
     "iopub.status.idle": "2024-02-20T08:18:52.257261Z",
     "shell.execute_reply": "2024-02-20T08:18:52.256075Z"
    },
    "papermill": {
     "duration": 0.035039,
     "end_time": "2024-02-20T08:18:52.260003",
     "exception": false,
     "start_time": "2024-02-20T08:18:52.224964",
     "status": "completed"
    },
    "tags": []
   },
   "outputs": [],
   "source": [
    "dset = pd.read_csv(\"Untitled spreadsheet - Sheet1.csv\")"
   ]
  },
  {
   "cell_type": "code",
   "execution_count": 3,
   "id": "7ee9d8e5",
   "metadata": {
    "execution": {
     "iopub.execute_input": "2024-02-20T08:18:52.275519Z",
     "iopub.status.busy": "2024-02-20T08:18:52.275142Z",
     "iopub.status.idle": "2024-02-20T08:18:52.298369Z",
     "shell.execute_reply": "2024-02-20T08:18:52.297104Z"
    },
    "papermill": {
     "duration": 0.033873,
     "end_time": "2024-02-20T08:18:52.300933",
     "exception": false,
     "start_time": "2024-02-20T08:18:52.267060",
     "status": "completed"
    },
    "tags": []
   },
   "outputs": [
    {
     "data": {
      "text/html": [
       "<div>\n",
       "<style scoped>\n",
       "    .dataframe tbody tr th:only-of-type {\n",
       "        vertical-align: middle;\n",
       "    }\n",
       "\n",
       "    .dataframe tbody tr th {\n",
       "        vertical-align: top;\n",
       "    }\n",
       "\n",
       "    .dataframe thead th {\n",
       "        text-align: right;\n",
       "    }\n",
       "</style>\n",
       "<table border=\"1\" class=\"dataframe\">\n",
       "  <thead>\n",
       "    <tr style=\"text-align: right;\">\n",
       "      <th></th>\n",
       "      <th>Player</th>\n",
       "      <th>MP</th>\n",
       "      <th>Starts</th>\n",
       "      <th>Min</th>\n",
       "      <th>90s</th>\n",
       "      <th>Gls</th>\n",
       "      <th>Ast</th>\n",
       "      <th>Gls.1</th>\n",
       "      <th>Ast.1</th>\n",
       "    </tr>\n",
       "  </thead>\n",
       "  <tbody>\n",
       "    <tr>\n",
       "      <th>0</th>\n",
       "      <td>Amrinder Singh</td>\n",
       "      <td>15</td>\n",
       "      <td>15</td>\n",
       "      <td>1,350</td>\n",
       "      <td>15.0</td>\n",
       "      <td>0</td>\n",
       "      <td>0</td>\n",
       "      <td>0.00</td>\n",
       "      <td>0.00</td>\n",
       "    </tr>\n",
       "    <tr>\n",
       "      <th>1</th>\n",
       "      <td>Amey Ranawade</td>\n",
       "      <td>15</td>\n",
       "      <td>15</td>\n",
       "      <td>1,307</td>\n",
       "      <td>14.5</td>\n",
       "      <td>1</td>\n",
       "      <td>4</td>\n",
       "      <td>0.07</td>\n",
       "      <td>0.28</td>\n",
       "    </tr>\n",
       "    <tr>\n",
       "      <th>2</th>\n",
       "      <td>Isak Vanlalruatfela</td>\n",
       "      <td>15</td>\n",
       "      <td>15</td>\n",
       "      <td>1,241</td>\n",
       "      <td>13.8</td>\n",
       "      <td>2</td>\n",
       "      <td>3</td>\n",
       "      <td>0.15</td>\n",
       "      <td>0.22</td>\n",
       "    </tr>\n",
       "    <tr>\n",
       "      <th>3</th>\n",
       "      <td>Jerry Lalrinzuala</td>\n",
       "      <td>14</td>\n",
       "      <td>14</td>\n",
       "      <td>1,253</td>\n",
       "      <td>13.9</td>\n",
       "      <td>0</td>\n",
       "      <td>0</td>\n",
       "      <td>0.00</td>\n",
       "      <td>0.00</td>\n",
       "    </tr>\n",
       "    <tr>\n",
       "      <th>4</th>\n",
       "      <td>Ahmed Jahouh</td>\n",
       "      <td>14</td>\n",
       "      <td>14</td>\n",
       "      <td>1,226</td>\n",
       "      <td>13.6</td>\n",
       "      <td>2</td>\n",
       "      <td>2</td>\n",
       "      <td>0.15</td>\n",
       "      <td>0.15</td>\n",
       "    </tr>\n",
       "  </tbody>\n",
       "</table>\n",
       "</div>"
      ],
      "text/plain": [
       "                Player  MP  Starts    Min   90s  Gls  Ast  Gls.1  Ast.1\n",
       "0       Amrinder Singh  15      15  1,350  15.0    0    0   0.00   0.00\n",
       "1        Amey Ranawade  15      15  1,307  14.5    1    4   0.07   0.28\n",
       "2  Isak Vanlalruatfela  15      15  1,241  13.8    2    3   0.15   0.22\n",
       "3    Jerry Lalrinzuala  14      14  1,253  13.9    0    0   0.00   0.00\n",
       "4         Ahmed Jahouh  14      14  1,226  13.6    2    2   0.15   0.15"
      ]
     },
     "execution_count": 3,
     "metadata": {},
     "output_type": "execute_result"
    }
   ],
   "source": [
    "dset.head()"
   ]
  },
  {
   "cell_type": "code",
   "execution_count": 4,
   "id": "5c44fd90",
   "metadata": {
    "execution": {
     "iopub.execute_input": "2024-02-20T08:18:52.317716Z",
     "iopub.status.busy": "2024-02-20T08:18:52.316466Z",
     "iopub.status.idle": "2024-02-20T08:18:52.342343Z",
     "shell.execute_reply": "2024-02-20T08:18:52.341092Z"
    },
    "papermill": {
     "duration": 0.03661,
     "end_time": "2024-02-20T08:18:52.344698",
     "exception": false,
     "start_time": "2024-02-20T08:18:52.308088",
     "status": "completed"
    },
    "tags": []
   },
   "outputs": [
    {
     "data": {
      "text/html": [
       "<div>\n",
       "<style scoped>\n",
       "    .dataframe tbody tr th:only-of-type {\n",
       "        vertical-align: middle;\n",
       "    }\n",
       "\n",
       "    .dataframe tbody tr th {\n",
       "        vertical-align: top;\n",
       "    }\n",
       "\n",
       "    .dataframe thead th {\n",
       "        text-align: right;\n",
       "    }\n",
       "</style>\n",
       "<table border=\"1\" class=\"dataframe\">\n",
       "  <thead>\n",
       "    <tr style=\"text-align: right;\">\n",
       "      <th></th>\n",
       "      <th>Player</th>\n",
       "      <th>MP</th>\n",
       "      <th>Starts</th>\n",
       "      <th>Min</th>\n",
       "      <th>90s</th>\n",
       "      <th>Gls</th>\n",
       "      <th>Ast</th>\n",
       "      <th>Gls.1</th>\n",
       "      <th>Ast.1</th>\n",
       "    </tr>\n",
       "  </thead>\n",
       "  <tbody>\n",
       "    <tr>\n",
       "      <th>0</th>\n",
       "      <td>Amrinder Singh</td>\n",
       "      <td>15</td>\n",
       "      <td>15</td>\n",
       "      <td>1,350</td>\n",
       "      <td>15.0</td>\n",
       "      <td>0</td>\n",
       "      <td>0</td>\n",
       "      <td>0.00</td>\n",
       "      <td>0.00</td>\n",
       "    </tr>\n",
       "    <tr>\n",
       "      <th>1</th>\n",
       "      <td>Amey Ranawade</td>\n",
       "      <td>15</td>\n",
       "      <td>15</td>\n",
       "      <td>1,307</td>\n",
       "      <td>14.5</td>\n",
       "      <td>1</td>\n",
       "      <td>4</td>\n",
       "      <td>0.07</td>\n",
       "      <td>0.28</td>\n",
       "    </tr>\n",
       "    <tr>\n",
       "      <th>2</th>\n",
       "      <td>Isak Vanlalruatfela</td>\n",
       "      <td>15</td>\n",
       "      <td>15</td>\n",
       "      <td>1,241</td>\n",
       "      <td>13.8</td>\n",
       "      <td>2</td>\n",
       "      <td>3</td>\n",
       "      <td>0.15</td>\n",
       "      <td>0.22</td>\n",
       "    </tr>\n",
       "    <tr>\n",
       "      <th>3</th>\n",
       "      <td>Jerry Lalrinzuala</td>\n",
       "      <td>14</td>\n",
       "      <td>14</td>\n",
       "      <td>1,253</td>\n",
       "      <td>13.9</td>\n",
       "      <td>0</td>\n",
       "      <td>0</td>\n",
       "      <td>0.00</td>\n",
       "      <td>0.00</td>\n",
       "    </tr>\n",
       "    <tr>\n",
       "      <th>4</th>\n",
       "      <td>Ahmed Jahouh</td>\n",
       "      <td>14</td>\n",
       "      <td>14</td>\n",
       "      <td>1,226</td>\n",
       "      <td>13.6</td>\n",
       "      <td>2</td>\n",
       "      <td>2</td>\n",
       "      <td>0.15</td>\n",
       "      <td>0.15</td>\n",
       "    </tr>\n",
       "    <tr>\n",
       "      <th>5</th>\n",
       "      <td>K Lalthathanga</td>\n",
       "      <td>14</td>\n",
       "      <td>14</td>\n",
       "      <td>1,165</td>\n",
       "      <td>12.9</td>\n",
       "      <td>1</td>\n",
       "      <td>1</td>\n",
       "      <td>0.08</td>\n",
       "      <td>0.08</td>\n",
       "    </tr>\n",
       "    <tr>\n",
       "      <th>6</th>\n",
       "      <td>Carlos Delgado</td>\n",
       "      <td>15</td>\n",
       "      <td>13</td>\n",
       "      <td>1,202</td>\n",
       "      <td>13.4</td>\n",
       "      <td>0</td>\n",
       "      <td>1</td>\n",
       "      <td>0.00</td>\n",
       "      <td>0.07</td>\n",
       "    </tr>\n",
       "    <tr>\n",
       "      <th>7</th>\n",
       "      <td>Roy Krishna</td>\n",
       "      <td>15</td>\n",
       "      <td>11</td>\n",
       "      <td>974</td>\n",
       "      <td>10.8</td>\n",
       "      <td>11</td>\n",
       "      <td>1</td>\n",
       "      <td>1.02</td>\n",
       "      <td>0.09</td>\n",
       "    </tr>\n",
       "    <tr>\n",
       "      <th>8</th>\n",
       "      <td>Diego Maurício</td>\n",
       "      <td>14</td>\n",
       "      <td>9</td>\n",
       "      <td>770</td>\n",
       "      <td>8.6</td>\n",
       "      <td>6</td>\n",
       "      <td>1</td>\n",
       "      <td>0.70</td>\n",
       "      <td>0.12</td>\n",
       "    </tr>\n",
       "    <tr>\n",
       "      <th>9</th>\n",
       "      <td>Narender Gahlot</td>\n",
       "      <td>10</td>\n",
       "      <td>9</td>\n",
       "      <td>741</td>\n",
       "      <td>8.2</td>\n",
       "      <td>0</td>\n",
       "      <td>0</td>\n",
       "      <td>0.00</td>\n",
       "      <td>0.00</td>\n",
       "    </tr>\n",
       "    <tr>\n",
       "      <th>10</th>\n",
       "      <td>Jerry Mawihmingthanga</td>\n",
       "      <td>12</td>\n",
       "      <td>8</td>\n",
       "      <td>612</td>\n",
       "      <td>6.8</td>\n",
       "      <td>2</td>\n",
       "      <td>1</td>\n",
       "      <td>0.29</td>\n",
       "      <td>0.15</td>\n",
       "    </tr>\n",
       "    <tr>\n",
       "      <th>11</th>\n",
       "      <td>Lenny Rodrigues</td>\n",
       "      <td>13</td>\n",
       "      <td>7</td>\n",
       "      <td>764</td>\n",
       "      <td>8.5</td>\n",
       "      <td>0</td>\n",
       "      <td>0</td>\n",
       "      <td>0.00</td>\n",
       "      <td>0.00</td>\n",
       "    </tr>\n",
       "    <tr>\n",
       "      <th>12</th>\n",
       "      <td>Mourtada Fall</td>\n",
       "      <td>10</td>\n",
       "      <td>7</td>\n",
       "      <td>692</td>\n",
       "      <td>7.7</td>\n",
       "      <td>3</td>\n",
       "      <td>0</td>\n",
       "      <td>0.39</td>\n",
       "      <td>0.00</td>\n",
       "    </tr>\n",
       "    <tr>\n",
       "      <th>13</th>\n",
       "      <td>Cy Goddard</td>\n",
       "      <td>8</td>\n",
       "      <td>6</td>\n",
       "      <td>466</td>\n",
       "      <td>5.2</td>\n",
       "      <td>0</td>\n",
       "      <td>2</td>\n",
       "      <td>0.00</td>\n",
       "      <td>0.39</td>\n",
       "    </tr>\n",
       "    <tr>\n",
       "      <th>14</th>\n",
       "      <td>Princeton Rebello</td>\n",
       "      <td>11</td>\n",
       "      <td>4</td>\n",
       "      <td>339</td>\n",
       "      <td>3.8</td>\n",
       "      <td>0</td>\n",
       "      <td>1</td>\n",
       "      <td>0.00</td>\n",
       "      <td>0.27</td>\n",
       "    </tr>\n",
       "    <tr>\n",
       "      <th>15</th>\n",
       "      <td>Aniket Anil Jadhav</td>\n",
       "      <td>11</td>\n",
       "      <td>1</td>\n",
       "      <td>275</td>\n",
       "      <td>3.1</td>\n",
       "      <td>0</td>\n",
       "      <td>0</td>\n",
       "      <td>0.00</td>\n",
       "      <td>0.00</td>\n",
       "    </tr>\n",
       "    <tr>\n",
       "      <th>16</th>\n",
       "      <td>Pranjal Bhumij</td>\n",
       "      <td>8</td>\n",
       "      <td>1</td>\n",
       "      <td>182</td>\n",
       "      <td>2.0</td>\n",
       "      <td>0</td>\n",
       "      <td>0</td>\n",
       "      <td>0.00</td>\n",
       "      <td>0.00</td>\n",
       "    </tr>\n",
       "    <tr>\n",
       "      <th>17</th>\n",
       "      <td>Thoiba Singh</td>\n",
       "      <td>4</td>\n",
       "      <td>1</td>\n",
       "      <td>118</td>\n",
       "      <td>1.3</td>\n",
       "      <td>0</td>\n",
       "      <td>0</td>\n",
       "      <td>0.00</td>\n",
       "      <td>0.00</td>\n",
       "    </tr>\n",
       "    <tr>\n",
       "      <th>18</th>\n",
       "      <td>Vignesh Dakshina Murthy</td>\n",
       "      <td>3</td>\n",
       "      <td>1</td>\n",
       "      <td>100</td>\n",
       "      <td>1.1</td>\n",
       "      <td>0</td>\n",
       "      <td>0</td>\n",
       "      <td>0.00</td>\n",
       "      <td>0.00</td>\n",
       "    </tr>\n",
       "    <tr>\n",
       "      <th>19</th>\n",
       "      <td>Laldinliana Renthlei</td>\n",
       "      <td>3</td>\n",
       "      <td>0</td>\n",
       "      <td>29</td>\n",
       "      <td>0.3</td>\n",
       "      <td>0</td>\n",
       "      <td>0</td>\n",
       "      <td>0.00</td>\n",
       "      <td>0.00</td>\n",
       "    </tr>\n",
       "    <tr>\n",
       "      <th>20</th>\n",
       "      <td>Soosai Raj</td>\n",
       "      <td>1</td>\n",
       "      <td>0</td>\n",
       "      <td>12</td>\n",
       "      <td>0.1</td>\n",
       "      <td>0</td>\n",
       "      <td>0</td>\n",
       "      <td>0.00</td>\n",
       "      <td>0.00</td>\n",
       "    </tr>\n",
       "    <tr>\n",
       "      <th>21</th>\n",
       "      <td>Hitesh Sharma</td>\n",
       "      <td>1</td>\n",
       "      <td>0</td>\n",
       "      <td>12</td>\n",
       "      <td>0.1</td>\n",
       "      <td>0</td>\n",
       "      <td>0</td>\n",
       "      <td>0.00</td>\n",
       "      <td>0.00</td>\n",
       "    </tr>\n",
       "    <tr>\n",
       "      <th>22</th>\n",
       "      <td>Sahil Panwar</td>\n",
       "      <td>2</td>\n",
       "      <td>0</td>\n",
       "      <td>11</td>\n",
       "      <td>0.1</td>\n",
       "      <td>0</td>\n",
       "      <td>0</td>\n",
       "      <td>0.00</td>\n",
       "      <td>0.00</td>\n",
       "    </tr>\n",
       "    <tr>\n",
       "      <th>23</th>\n",
       "      <td>Aphaoba Singh</td>\n",
       "      <td>1</td>\n",
       "      <td>0</td>\n",
       "      <td>9</td>\n",
       "      <td>0.1</td>\n",
       "      <td>0</td>\n",
       "      <td>0</td>\n",
       "      <td>0.00</td>\n",
       "      <td>0.00</td>\n",
       "    </tr>\n",
       "    <tr>\n",
       "      <th>24</th>\n",
       "      <td>Lalthuammawia Ralte</td>\n",
       "      <td>0</td>\n",
       "      <td>0</td>\n",
       "      <td>0</td>\n",
       "      <td>0.0</td>\n",
       "      <td>0</td>\n",
       "      <td>0</td>\n",
       "      <td>0.00</td>\n",
       "      <td>0.00</td>\n",
       "    </tr>\n",
       "    <tr>\n",
       "      <th>25</th>\n",
       "      <td>Paul Ramfangzauva</td>\n",
       "      <td>0</td>\n",
       "      <td>0</td>\n",
       "      <td>0</td>\n",
       "      <td>0.0</td>\n",
       "      <td>0</td>\n",
       "      <td>0</td>\n",
       "      <td>0.00</td>\n",
       "      <td>0.00</td>\n",
       "    </tr>\n",
       "    <tr>\n",
       "      <th>26</th>\n",
       "      <td>Lalliansanga Renthlei</td>\n",
       "      <td>0</td>\n",
       "      <td>0</td>\n",
       "      <td>0</td>\n",
       "      <td>0.0</td>\n",
       "      <td>0</td>\n",
       "      <td>0</td>\n",
       "      <td>0.00</td>\n",
       "      <td>0.00</td>\n",
       "    </tr>\n",
       "    <tr>\n",
       "      <th>27</th>\n",
       "      <td>Isaac Vanmalsawma</td>\n",
       "      <td>0</td>\n",
       "      <td>0</td>\n",
       "      <td>0</td>\n",
       "      <td>0.0</td>\n",
       "      <td>0</td>\n",
       "      <td>0</td>\n",
       "      <td>0.00</td>\n",
       "      <td>0.00</td>\n",
       "    </tr>\n",
       "  </tbody>\n",
       "</table>\n",
       "</div>"
      ],
      "text/plain": [
       "                     Player  MP  Starts    Min   90s  Gls  Ast  Gls.1  Ast.1\n",
       "0            Amrinder Singh  15      15  1,350  15.0    0    0   0.00   0.00\n",
       "1             Amey Ranawade  15      15  1,307  14.5    1    4   0.07   0.28\n",
       "2       Isak Vanlalruatfela  15      15  1,241  13.8    2    3   0.15   0.22\n",
       "3         Jerry Lalrinzuala  14      14  1,253  13.9    0    0   0.00   0.00\n",
       "4              Ahmed Jahouh  14      14  1,226  13.6    2    2   0.15   0.15\n",
       "5            K Lalthathanga  14      14  1,165  12.9    1    1   0.08   0.08\n",
       "6            Carlos Delgado  15      13  1,202  13.4    0    1   0.00   0.07\n",
       "7               Roy Krishna  15      11    974  10.8   11    1   1.02   0.09\n",
       "8            Diego Maurício  14       9    770   8.6    6    1   0.70   0.12\n",
       "9           Narender Gahlot  10       9    741   8.2    0    0   0.00   0.00\n",
       "10    Jerry Mawihmingthanga  12       8    612   6.8    2    1   0.29   0.15\n",
       "11          Lenny Rodrigues  13       7    764   8.5    0    0   0.00   0.00\n",
       "12            Mourtada Fall  10       7    692   7.7    3    0   0.39   0.00\n",
       "13               Cy Goddard   8       6    466   5.2    0    2   0.00   0.39\n",
       "14        Princeton Rebello  11       4    339   3.8    0    1   0.00   0.27\n",
       "15       Aniket Anil Jadhav  11       1    275   3.1    0    0   0.00   0.00\n",
       "16           Pranjal Bhumij   8       1    182   2.0    0    0   0.00   0.00\n",
       "17             Thoiba Singh   4       1    118   1.3    0    0   0.00   0.00\n",
       "18  Vignesh Dakshina Murthy   3       1    100   1.1    0    0   0.00   0.00\n",
       "19     Laldinliana Renthlei   3       0     29   0.3    0    0   0.00   0.00\n",
       "20               Soosai Raj   1       0     12   0.1    0    0   0.00   0.00\n",
       "21            Hitesh Sharma   1       0     12   0.1    0    0   0.00   0.00\n",
       "22             Sahil Panwar   2       0     11   0.1    0    0   0.00   0.00\n",
       "23            Aphaoba Singh   1       0      9   0.1    0    0   0.00   0.00\n",
       "24      Lalthuammawia Ralte   0       0      0   0.0    0    0   0.00   0.00\n",
       "25        Paul Ramfangzauva   0       0      0   0.0    0    0   0.00   0.00\n",
       "26    Lalliansanga Renthlei   0       0      0   0.0    0    0   0.00   0.00\n",
       "27        Isaac Vanmalsawma   0       0      0   0.0    0    0   0.00   0.00"
      ]
     },
     "execution_count": 4,
     "metadata": {},
     "output_type": "execute_result"
    }
   ],
   "source": [
    "dset"
   ]
  },
  {
   "cell_type": "code",
   "execution_count": 5,
   "id": "26e357ff",
   "metadata": {
    "execution": {
     "iopub.execute_input": "2024-02-20T08:18:52.362091Z",
     "iopub.status.busy": "2024-02-20T08:18:52.361629Z",
     "iopub.status.idle": "2024-02-20T08:18:52.375753Z",
     "shell.execute_reply": "2024-02-20T08:18:52.374671Z"
    },
    "papermill": {
     "duration": 0.02586,
     "end_time": "2024-02-20T08:18:52.378347",
     "exception": false,
     "start_time": "2024-02-20T08:18:52.352487",
     "status": "completed"
    },
    "tags": []
   },
   "outputs": [],
   "source": [
    "dset = dset.drop([\"Player\",\"Starts\",\"90s\",\"Gls.1\",\"Ast.1\"],axis=1)"
   ]
  },
  {
   "cell_type": "code",
   "execution_count": 6,
   "id": "906ca395",
   "metadata": {
    "execution": {
     "iopub.execute_input": "2024-02-20T08:18:52.396276Z",
     "iopub.status.busy": "2024-02-20T08:18:52.395231Z",
     "iopub.status.idle": "2024-02-20T08:18:52.434756Z",
     "shell.execute_reply": "2024-02-20T08:18:52.433769Z"
    },
    "papermill": {
     "duration": 0.052273,
     "end_time": "2024-02-20T08:18:52.438396",
     "exception": false,
     "start_time": "2024-02-20T08:18:52.386123",
     "status": "completed"
    },
    "tags": []
   },
   "outputs": [
    {
     "name": "stdout",
     "output_type": "stream",
     "text": [
      "<class 'pandas.core.frame.DataFrame'>\n",
      "RangeIndex: 28 entries, 0 to 27\n",
      "Data columns (total 4 columns):\n",
      " #   Column  Non-Null Count  Dtype \n",
      "---  ------  --------------  ----- \n",
      " 0   MP      28 non-null     int64 \n",
      " 1   Min     28 non-null     object\n",
      " 2   Gls     28 non-null     int64 \n",
      " 3   Ast     28 non-null     int64 \n",
      "dtypes: int64(3), object(1)\n",
      "memory usage: 1.0+ KB\n"
     ]
    },
    {
     "name": "stderr",
     "output_type": "stream",
     "text": [
      "C:\\Users\\KIRAN\\AppData\\Local\\Temp\\ipykernel_20332\\1174509567.py:4: SettingWithCopyWarning: \n",
      "A value is trying to be set on a copy of a slice from a DataFrame\n",
      "\n",
      "See the caveats in the documentation: https://pandas.pydata.org/pandas-docs/stable/user_guide/indexing.html#returning-a-view-versus-a-copy\n",
      "  a[i]  = a[i].replace(\",\", \"\")\n",
      "C:\\Users\\KIRAN\\AppData\\Local\\Temp\\ipykernel_20332\\1174509567.py:4: SettingWithCopyWarning: \n",
      "A value is trying to be set on a copy of a slice from a DataFrame\n",
      "\n",
      "See the caveats in the documentation: https://pandas.pydata.org/pandas-docs/stable/user_guide/indexing.html#returning-a-view-versus-a-copy\n",
      "  a[i]  = a[i].replace(\",\", \"\")\n",
      "C:\\Users\\KIRAN\\AppData\\Local\\Temp\\ipykernel_20332\\1174509567.py:4: SettingWithCopyWarning: \n",
      "A value is trying to be set on a copy of a slice from a DataFrame\n",
      "\n",
      "See the caveats in the documentation: https://pandas.pydata.org/pandas-docs/stable/user_guide/indexing.html#returning-a-view-versus-a-copy\n",
      "  a[i]  = a[i].replace(\",\", \"\")\n",
      "C:\\Users\\KIRAN\\AppData\\Local\\Temp\\ipykernel_20332\\1174509567.py:4: SettingWithCopyWarning: \n",
      "A value is trying to be set on a copy of a slice from a DataFrame\n",
      "\n",
      "See the caveats in the documentation: https://pandas.pydata.org/pandas-docs/stable/user_guide/indexing.html#returning-a-view-versus-a-copy\n",
      "  a[i]  = a[i].replace(\",\", \"\")\n",
      "C:\\Users\\KIRAN\\AppData\\Local\\Temp\\ipykernel_20332\\1174509567.py:4: SettingWithCopyWarning: \n",
      "A value is trying to be set on a copy of a slice from a DataFrame\n",
      "\n",
      "See the caveats in the documentation: https://pandas.pydata.org/pandas-docs/stable/user_guide/indexing.html#returning-a-view-versus-a-copy\n",
      "  a[i]  = a[i].replace(\",\", \"\")\n",
      "C:\\Users\\KIRAN\\AppData\\Local\\Temp\\ipykernel_20332\\1174509567.py:4: SettingWithCopyWarning: \n",
      "A value is trying to be set on a copy of a slice from a DataFrame\n",
      "\n",
      "See the caveats in the documentation: https://pandas.pydata.org/pandas-docs/stable/user_guide/indexing.html#returning-a-view-versus-a-copy\n",
      "  a[i]  = a[i].replace(\",\", \"\")\n",
      "C:\\Users\\KIRAN\\AppData\\Local\\Temp\\ipykernel_20332\\1174509567.py:4: SettingWithCopyWarning: \n",
      "A value is trying to be set on a copy of a slice from a DataFrame\n",
      "\n",
      "See the caveats in the documentation: https://pandas.pydata.org/pandas-docs/stable/user_guide/indexing.html#returning-a-view-versus-a-copy\n",
      "  a[i]  = a[i].replace(\",\", \"\")\n",
      "C:\\Users\\KIRAN\\AppData\\Local\\Temp\\ipykernel_20332\\1174509567.py:4: SettingWithCopyWarning: \n",
      "A value is trying to be set on a copy of a slice from a DataFrame\n",
      "\n",
      "See the caveats in the documentation: https://pandas.pydata.org/pandas-docs/stable/user_guide/indexing.html#returning-a-view-versus-a-copy\n",
      "  a[i]  = a[i].replace(\",\", \"\")\n",
      "C:\\Users\\KIRAN\\AppData\\Local\\Temp\\ipykernel_20332\\1174509567.py:4: SettingWithCopyWarning: \n",
      "A value is trying to be set on a copy of a slice from a DataFrame\n",
      "\n",
      "See the caveats in the documentation: https://pandas.pydata.org/pandas-docs/stable/user_guide/indexing.html#returning-a-view-versus-a-copy\n",
      "  a[i]  = a[i].replace(\",\", \"\")\n",
      "C:\\Users\\KIRAN\\AppData\\Local\\Temp\\ipykernel_20332\\1174509567.py:4: SettingWithCopyWarning: \n",
      "A value is trying to be set on a copy of a slice from a DataFrame\n",
      "\n",
      "See the caveats in the documentation: https://pandas.pydata.org/pandas-docs/stable/user_guide/indexing.html#returning-a-view-versus-a-copy\n",
      "  a[i]  = a[i].replace(\",\", \"\")\n",
      "C:\\Users\\KIRAN\\AppData\\Local\\Temp\\ipykernel_20332\\1174509567.py:4: SettingWithCopyWarning: \n",
      "A value is trying to be set on a copy of a slice from a DataFrame\n",
      "\n",
      "See the caveats in the documentation: https://pandas.pydata.org/pandas-docs/stable/user_guide/indexing.html#returning-a-view-versus-a-copy\n",
      "  a[i]  = a[i].replace(\",\", \"\")\n",
      "C:\\Users\\KIRAN\\AppData\\Local\\Temp\\ipykernel_20332\\1174509567.py:4: SettingWithCopyWarning: \n",
      "A value is trying to be set on a copy of a slice from a DataFrame\n",
      "\n",
      "See the caveats in the documentation: https://pandas.pydata.org/pandas-docs/stable/user_guide/indexing.html#returning-a-view-versus-a-copy\n",
      "  a[i]  = a[i].replace(\",\", \"\")\n",
      "C:\\Users\\KIRAN\\AppData\\Local\\Temp\\ipykernel_20332\\1174509567.py:4: SettingWithCopyWarning: \n",
      "A value is trying to be set on a copy of a slice from a DataFrame\n",
      "\n",
      "See the caveats in the documentation: https://pandas.pydata.org/pandas-docs/stable/user_guide/indexing.html#returning-a-view-versus-a-copy\n",
      "  a[i]  = a[i].replace(\",\", \"\")\n",
      "C:\\Users\\KIRAN\\AppData\\Local\\Temp\\ipykernel_20332\\1174509567.py:4: SettingWithCopyWarning: \n",
      "A value is trying to be set on a copy of a slice from a DataFrame\n",
      "\n",
      "See the caveats in the documentation: https://pandas.pydata.org/pandas-docs/stable/user_guide/indexing.html#returning-a-view-versus-a-copy\n",
      "  a[i]  = a[i].replace(\",\", \"\")\n",
      "C:\\Users\\KIRAN\\AppData\\Local\\Temp\\ipykernel_20332\\1174509567.py:4: SettingWithCopyWarning: \n",
      "A value is trying to be set on a copy of a slice from a DataFrame\n",
      "\n",
      "See the caveats in the documentation: https://pandas.pydata.org/pandas-docs/stable/user_guide/indexing.html#returning-a-view-versus-a-copy\n",
      "  a[i]  = a[i].replace(\",\", \"\")\n",
      "C:\\Users\\KIRAN\\AppData\\Local\\Temp\\ipykernel_20332\\1174509567.py:4: SettingWithCopyWarning: \n",
      "A value is trying to be set on a copy of a slice from a DataFrame\n",
      "\n",
      "See the caveats in the documentation: https://pandas.pydata.org/pandas-docs/stable/user_guide/indexing.html#returning-a-view-versus-a-copy\n",
      "  a[i]  = a[i].replace(\",\", \"\")\n",
      "C:\\Users\\KIRAN\\AppData\\Local\\Temp\\ipykernel_20332\\1174509567.py:4: SettingWithCopyWarning: \n",
      "A value is trying to be set on a copy of a slice from a DataFrame\n",
      "\n",
      "See the caveats in the documentation: https://pandas.pydata.org/pandas-docs/stable/user_guide/indexing.html#returning-a-view-versus-a-copy\n",
      "  a[i]  = a[i].replace(\",\", \"\")\n",
      "C:\\Users\\KIRAN\\AppData\\Local\\Temp\\ipykernel_20332\\1174509567.py:4: SettingWithCopyWarning: \n",
      "A value is trying to be set on a copy of a slice from a DataFrame\n",
      "\n",
      "See the caveats in the documentation: https://pandas.pydata.org/pandas-docs/stable/user_guide/indexing.html#returning-a-view-versus-a-copy\n",
      "  a[i]  = a[i].replace(\",\", \"\")\n",
      "C:\\Users\\KIRAN\\AppData\\Local\\Temp\\ipykernel_20332\\1174509567.py:4: SettingWithCopyWarning: \n",
      "A value is trying to be set on a copy of a slice from a DataFrame\n",
      "\n",
      "See the caveats in the documentation: https://pandas.pydata.org/pandas-docs/stable/user_guide/indexing.html#returning-a-view-versus-a-copy\n",
      "  a[i]  = a[i].replace(\",\", \"\")\n",
      "C:\\Users\\KIRAN\\AppData\\Local\\Temp\\ipykernel_20332\\1174509567.py:4: SettingWithCopyWarning: \n",
      "A value is trying to be set on a copy of a slice from a DataFrame\n",
      "\n",
      "See the caveats in the documentation: https://pandas.pydata.org/pandas-docs/stable/user_guide/indexing.html#returning-a-view-versus-a-copy\n",
      "  a[i]  = a[i].replace(\",\", \"\")\n",
      "C:\\Users\\KIRAN\\AppData\\Local\\Temp\\ipykernel_20332\\1174509567.py:4: SettingWithCopyWarning: \n",
      "A value is trying to be set on a copy of a slice from a DataFrame\n",
      "\n",
      "See the caveats in the documentation: https://pandas.pydata.org/pandas-docs/stable/user_guide/indexing.html#returning-a-view-versus-a-copy\n",
      "  a[i]  = a[i].replace(\",\", \"\")\n",
      "C:\\Users\\KIRAN\\AppData\\Local\\Temp\\ipykernel_20332\\1174509567.py:4: SettingWithCopyWarning: \n",
      "A value is trying to be set on a copy of a slice from a DataFrame\n",
      "\n",
      "See the caveats in the documentation: https://pandas.pydata.org/pandas-docs/stable/user_guide/indexing.html#returning-a-view-versus-a-copy\n",
      "  a[i]  = a[i].replace(\",\", \"\")\n",
      "C:\\Users\\KIRAN\\AppData\\Local\\Temp\\ipykernel_20332\\1174509567.py:4: SettingWithCopyWarning: \n",
      "A value is trying to be set on a copy of a slice from a DataFrame\n",
      "\n",
      "See the caveats in the documentation: https://pandas.pydata.org/pandas-docs/stable/user_guide/indexing.html#returning-a-view-versus-a-copy\n",
      "  a[i]  = a[i].replace(\",\", \"\")\n",
      "C:\\Users\\KIRAN\\AppData\\Local\\Temp\\ipykernel_20332\\1174509567.py:4: SettingWithCopyWarning: \n",
      "A value is trying to be set on a copy of a slice from a DataFrame\n",
      "\n",
      "See the caveats in the documentation: https://pandas.pydata.org/pandas-docs/stable/user_guide/indexing.html#returning-a-view-versus-a-copy\n",
      "  a[i]  = a[i].replace(\",\", \"\")\n",
      "C:\\Users\\KIRAN\\AppData\\Local\\Temp\\ipykernel_20332\\1174509567.py:4: SettingWithCopyWarning: \n",
      "A value is trying to be set on a copy of a slice from a DataFrame\n",
      "\n",
      "See the caveats in the documentation: https://pandas.pydata.org/pandas-docs/stable/user_guide/indexing.html#returning-a-view-versus-a-copy\n",
      "  a[i]  = a[i].replace(\",\", \"\")\n",
      "C:\\Users\\KIRAN\\AppData\\Local\\Temp\\ipykernel_20332\\1174509567.py:4: SettingWithCopyWarning: \n",
      "A value is trying to be set on a copy of a slice from a DataFrame\n",
      "\n",
      "See the caveats in the documentation: https://pandas.pydata.org/pandas-docs/stable/user_guide/indexing.html#returning-a-view-versus-a-copy\n",
      "  a[i]  = a[i].replace(\",\", \"\")\n",
      "C:\\Users\\KIRAN\\AppData\\Local\\Temp\\ipykernel_20332\\1174509567.py:4: SettingWithCopyWarning: \n",
      "A value is trying to be set on a copy of a slice from a DataFrame\n",
      "\n",
      "See the caveats in the documentation: https://pandas.pydata.org/pandas-docs/stable/user_guide/indexing.html#returning-a-view-versus-a-copy\n",
      "  a[i]  = a[i].replace(\",\", \"\")\n",
      "C:\\Users\\KIRAN\\AppData\\Local\\Temp\\ipykernel_20332\\1174509567.py:4: SettingWithCopyWarning: \n",
      "A value is trying to be set on a copy of a slice from a DataFrame\n",
      "\n",
      "See the caveats in the documentation: https://pandas.pydata.org/pandas-docs/stable/user_guide/indexing.html#returning-a-view-versus-a-copy\n",
      "  a[i]  = a[i].replace(\",\", \"\")\n"
     ]
    }
   ],
   "source": [
    "dset.info()\n",
    "a = dset['Min']\n",
    "for i in range(len(a)):\n",
    "    a[i]  = a[i].replace(\",\", \"\")"
   ]
  },
  {
   "cell_type": "code",
   "execution_count": 7,
   "id": "2470715a",
   "metadata": {
    "execution": {
     "iopub.execute_input": "2024-02-20T08:18:52.457520Z",
     "iopub.status.busy": "2024-02-20T08:18:52.456715Z",
     "iopub.status.idle": "2024-02-20T08:18:52.463815Z",
     "shell.execute_reply": "2024-02-20T08:18:52.462857Z"
    },
    "papermill": {
     "duration": 0.019538,
     "end_time": "2024-02-20T08:18:52.466360",
     "exception": false,
     "start_time": "2024-02-20T08:18:52.446822",
     "status": "completed"
    },
    "tags": []
   },
   "outputs": [],
   "source": [
    "dset = dset.astype({\n",
    "    'Min': float,\n",
    "    'Gls': float,\n",
    "    'Ast':float\n",
    "})"
   ]
  },
  {
   "cell_type": "code",
   "execution_count": 8,
   "id": "62295613",
   "metadata": {
    "execution": {
     "iopub.execute_input": "2024-02-20T08:18:52.485671Z",
     "iopub.status.busy": "2024-02-20T08:18:52.484830Z",
     "iopub.status.idle": "2024-02-20T08:18:52.495896Z",
     "shell.execute_reply": "2024-02-20T08:18:52.494689Z"
    },
    "papermill": {
     "duration": 0.023783,
     "end_time": "2024-02-20T08:18:52.498664",
     "exception": false,
     "start_time": "2024-02-20T08:18:52.474881",
     "status": "completed"
    },
    "tags": []
   },
   "outputs": [
    {
     "name": "stdout",
     "output_type": "stream",
     "text": [
      "<class 'pandas.core.frame.DataFrame'>\n",
      "RangeIndex: 28 entries, 0 to 27\n",
      "Data columns (total 4 columns):\n",
      " #   Column  Non-Null Count  Dtype  \n",
      "---  ------  --------------  -----  \n",
      " 0   MP      28 non-null     int64  \n",
      " 1   Min     28 non-null     float64\n",
      " 2   Gls     28 non-null     float64\n",
      " 3   Ast     28 non-null     float64\n",
      "dtypes: float64(3), int64(1)\n",
      "memory usage: 1.0 KB\n"
     ]
    }
   ],
   "source": [
    "dset.info()"
   ]
  },
  {
   "cell_type": "markdown",
   "id": "7aaf7e42",
   "metadata": {
    "papermill": {
     "duration": 0.007935,
     "end_time": "2024-02-20T08:18:52.514895",
     "exception": false,
     "start_time": "2024-02-20T08:18:52.506960",
     "status": "completed"
    },
    "tags": []
   },
   "source": [
    "# DATA CLEANED\n",
    "Now i am going to apply k mean algorithm to cluster these 28 players /////"
   ]
  },
  {
   "cell_type": "code",
   "execution_count": 9,
   "id": "cf562b64",
   "metadata": {
    "execution": {
     "iopub.execute_input": "2024-02-20T08:18:52.533630Z",
     "iopub.status.busy": "2024-02-20T08:18:52.532965Z",
     "iopub.status.idle": "2024-02-20T08:18:52.541479Z",
     "shell.execute_reply": "2024-02-20T08:18:52.540126Z"
    },
    "papermill": {
     "duration": 0.02109,
     "end_time": "2024-02-20T08:18:52.544252",
     "exception": false,
     "start_time": "2024-02-20T08:18:52.523162",
     "status": "completed"
    },
    "tags": []
   },
   "outputs": [],
   "source": [
    "dset = (dset - dset.min())/(dset.max()-dset.min())* 9 +1"
   ]
  },
  {
   "cell_type": "markdown",
   "id": "17f32514",
   "metadata": {
    "papermill": {
     "duration": 0.008059,
     "end_time": "2024-02-20T08:18:52.560687",
     "exception": false,
     "start_time": "2024-02-20T08:18:52.552628",
     "status": "completed"
    },
    "tags": []
   },
   "source": [
    "# Finding the centroid"
   ]
  },
  {
   "cell_type": "code",
   "execution_count": 10,
   "id": "5131df77",
   "metadata": {
    "execution": {
     "iopub.execute_input": "2024-02-20T08:18:52.579295Z",
     "iopub.status.busy": "2024-02-20T08:18:52.578878Z",
     "iopub.status.idle": "2024-02-20T08:18:52.585124Z",
     "shell.execute_reply": "2024-02-20T08:18:52.583911Z"
    },
    "papermill": {
     "duration": 0.01857,
     "end_time": "2024-02-20T08:18:52.587554",
     "exception": false,
     "start_time": "2024-02-20T08:18:52.568984",
     "status": "completed"
    },
    "tags": []
   },
   "outputs": [],
   "source": [
    "def random_centroid(data, k):\n",
    "    centroids = []\n",
    "    for i in range(k):\n",
    "        centroid = data.apply(lambda x:float(x.sample()))\n",
    "        centroids.append(centroid)\n",
    "    return pd.concat(centroids,axis=1)"
   ]
  },
  {
   "cell_type": "code",
   "execution_count": 12,
   "id": "a94f2a44",
   "metadata": {
    "execution": {
     "iopub.execute_input": "2024-02-20T08:18:52.606378Z",
     "iopub.status.busy": "2024-02-20T08:18:52.605983Z",
     "iopub.status.idle": "2024-02-20T08:18:52.624800Z",
     "shell.execute_reply": "2024-02-20T08:18:52.623487Z"
    },
    "papermill": {
     "duration": 0.032426,
     "end_time": "2024-02-20T08:18:52.628318",
     "exception": false,
     "start_time": "2024-02-20T08:18:52.595892",
     "status": "completed"
    },
    "tags": []
   },
   "outputs": [
    {
     "name": "stdout",
     "output_type": "stream",
     "text": [
      "       0          1     2\n",
      "MP   1.0  10.000000  2.80\n",
      "Min  1.0   9.273333  3.26\n",
      "Gls  1.0   1.000000  1.00\n",
      "Ast  1.0   1.000000  1.00\n"
     ]
    },
    {
     "name": "stderr",
     "output_type": "stream",
     "text": [
      "C:\\Users\\KIRAN\\AppData\\Local\\Temp\\ipykernel_20332\\3385832708.py:4: FutureWarning: Calling float on a single element Series is deprecated and will raise a TypeError in the future. Use float(ser.iloc[0]) instead\n",
      "  centroid = data.apply(lambda x:float(x.sample()))\n"
     ]
    }
   ],
   "source": [
    "data = random_centroid(dset, 3)\n",
    "print(data)"
   ]
  },
  {
   "cell_type": "markdown",
   "id": "aaaa0b1a",
   "metadata": {
    "papermill": {
     "duration": 0.008313,
     "end_time": "2024-02-20T08:18:52.646481",
     "exception": false,
     "start_time": "2024-02-20T08:18:52.638168",
     "status": "completed"
    },
    "tags": []
   },
   "source": [
    "# Finding the distance"
   ]
  },
  {
   "cell_type": "code",
   "execution_count": 14,
   "id": "52ca4832",
   "metadata": {
    "execution": {
     "iopub.execute_input": "2024-02-20T08:18:52.665916Z",
     "iopub.status.busy": "2024-02-20T08:18:52.665416Z",
     "iopub.status.idle": "2024-02-20T08:18:52.684087Z",
     "shell.execute_reply": "2024-02-20T08:18:52.682560Z"
    },
    "papermill": {
     "duration": 0.03143,
     "end_time": "2024-02-20T08:18:52.686634",
     "exception": false,
     "start_time": "2024-02-20T08:18:52.655204",
     "status": "completed"
    },
    "tags": []
   },
   "outputs": [
    {
     "name": "stdout",
     "output_type": "stream",
     "text": [
      "            0          1          2\n",
      "0   12.727922   0.726667   9.862434\n",
      "1   15.446411   9.047819  13.234611\n",
      "2   14.060165   6.945516  11.672205\n",
      "3   11.846442   0.605310   8.982690\n",
      "4   12.660611   4.826768  10.072497\n",
      "5   11.688158   2.519649   8.922741\n",
      "6   12.258712   2.264972   9.487009\n",
      "7   14.464642   9.446211  12.482933\n",
      "8   11.228214   6.275450   8.998762\n",
      "9    7.771975   4.484541   4.982208\n",
      "10   8.730784   5.344551   6.341339\n",
      "11   9.315688   3.398882   6.635343\n",
      "12   7.956610   5.331078   5.403977\n",
      "13   7.276083   8.036445   5.474198\n",
      "14   7.330082   6.854391   5.301179\n",
      "15   6.849899   6.872671   4.818926\n",
      "16   4.950977   8.214840   3.177343\n",
      "17   2.525637   9.980490   1.590821\n",
      "18   1.919491  10.473843   1.593333\n",
      "19   1.810353  10.822495   2.066667\n",
      "20   0.605310  11.734169   2.488453\n",
      "21   0.605310  11.734169   2.488453\n",
      "22   1.202239  11.317243   2.267490\n",
      "23   0.602993  11.748142   2.505993\n",
      "24   0.000000  12.224894   2.889221\n",
      "25   0.000000  12.224894   2.889221\n",
      "26   0.000000  12.224894   2.889221\n",
      "27   0.000000  12.224894   2.889221\n"
     ]
    }
   ],
   "source": [
    "dist = data.apply(lambda x:np.sqrt(((dset-x)**2).sum(axis=1)))\n",
    "print(dist)\n"
   ]
  },
  {
   "cell_type": "markdown",
   "id": "55ce486d",
   "metadata": {
    "papermill": {
     "duration": 0.008524,
     "end_time": "2024-02-20T08:18:52.704087",
     "exception": false,
     "start_time": "2024-02-20T08:18:52.695563",
     "status": "completed"
    },
    "tags": []
   },
   "source": [
    "# ELBOW METHOD\n",
    "In the second step, we will try to find the optimal number of clusters for our clustering problem. So, as discussed above, here we are going to use the elbow method for this purpose.\n",
    "\n",
    "As we know, the elbow method uses the WCSS concept to draw the plot by plotting WCSS values on the Y-axis and the number of clusters on the X-axis. So we are going to calculate the value for WCSS for different k values ranging from 1 to 10. Below is the code for it:"
   ]
  },
  {
   "cell_type": "code",
   "execution_count": 15,
   "id": "bf90c609",
   "metadata": {
    "execution": {
     "iopub.execute_input": "2024-02-20T08:18:52.724968Z",
     "iopub.status.busy": "2024-02-20T08:18:52.724506Z",
     "iopub.status.idle": "2024-02-20T08:18:53.203214Z",
     "shell.execute_reply": "2024-02-20T08:18:53.201923Z"
    },
    "papermill": {
     "duration": 0.49204,
     "end_time": "2024-02-20T08:18:53.206081",
     "exception": false,
     "start_time": "2024-02-20T08:18:52.714041",
     "status": "completed"
    },
    "tags": []
   },
   "outputs": [
    {
     "data": {
      "image/png": "[encoded data removed]",
      "text/plain": [
       "<Figure size 640x480 with 1 Axes>"
      ]
     },
     "metadata": {},
     "output_type": "display_data"
    }
   ],
   "source": [
    "x = np.array(dset)\n",
    "from sklearn.cluster import KMeans  \n",
    "wcss_list= []  #Initializing the list for the values of WCSS  \n",
    " \n",
    "#Using for loop for iterations from 1 to 10.  \n",
    "for i in range(1, 11):  \n",
    "    kmeans = KMeans(n_clusters=i, init='k-means++', random_state= 42)  \n",
    "    kmeans.fit(x)  \n",
    "    wcss_list.append(kmeans.inertia_)  \n",
    "plt.plot(range(1, 11), wcss_list)  \n",
    "plt.title('The Elobw Method Graph')  \n",
    "plt.xlabel('Number of clusters(k)')  \n",
    "plt.ylabel('wcss_list')  \n",
    "plt.show()  "
   ]
  },
  {
   "cell_type": "code",
   "execution_count": 20,
   "id": "409a3fc4",
   "metadata": {
    "execution": {
     "iopub.execute_input": "2024-02-20T08:18:53.228228Z",
     "iopub.status.busy": "2024-02-20T08:18:53.227390Z",
     "iopub.status.idle": "2024-02-20T08:18:53.248161Z",
     "shell.execute_reply": "2024-02-20T08:18:53.247023Z"
    },
    "papermill": {
     "duration": 0.035773,
     "end_time": "2024-02-20T08:18:53.251753",
     "exception": false,
     "start_time": "2024-02-20T08:18:53.215980",
     "status": "completed"
    },
    "tags": []
   },
   "outputs": [],
   "source": [
    "kmeans = KMeans(n_clusters=3, init='k-means++', random_state= 42)  \n",
    "y_predict= kmeans.fit_predict(x) "
   ]
  },
  {
   "cell_type": "code",
   "execution_count": 21,
   "id": "fed6047f",
   "metadata": {
    "execution": {
     "iopub.execute_input": "2024-02-20T08:18:53.274756Z",
     "iopub.status.busy": "2024-02-20T08:18:53.274265Z",
     "iopub.status.idle": "2024-02-20T08:18:53.635246Z",
     "shell.execute_reply": "2024-02-20T08:18:53.634034Z"
    },
    "papermill": {
     "duration": 0.37525,
     "end_time": "2024-02-20T08:18:53.638062",
     "exception": false,
     "start_time": "2024-02-20T08:18:53.262812",
     "status": "completed"
    },
    "tags": []
   },
   "outputs": [
    {
     "data": {
      "image/png": "[encoded data removed]",
      "text/plain": [
       "<Figure size 640x480 with 1 Axes>"
      ]
     },
     "metadata": {},
     "output_type": "display_data"
    }
   ],
   "source": [
    "#visulaizing the clusters  \n",
    "plt.scatter(x[y_predict == 0, 0], x[y_predict == 0, 1], s = 100, c = 'blue', label = 'Cluster 1') #for first cluster  \n",
    "plt.scatter(x[y_predict == 1, 0], x[y_predict == 1, 1], s = 100, c = 'green', label = 'Cluster 2') #for second cluster  \n",
    "plt.scatter(x[y_predict== 2, 0], x[y_predict == 2, 1], s = 100, c = 'red', label = 'Cluster 3') #for third cluster  \n",
    "#plt.scatter(x[y_predict == 4, 0], x[y_predict == 4, 1], s = 100, c = 'magenta', label = 'Cluster 5') #for fifth cluster  \n",
    "plt.scatter(kmeans.cluster_centers_[:, 0], kmeans.cluster_centers_[:, 1], s = 300, c = 'yellow', label = 'Centroid')   \n",
    "plt.title('Indian Football Team Clustering')  \n",
    "plt.xlabel('Position')  \n",
    "plt.ylabel('Score')  \n",
    "plt.legend()  \n",
    "plt.show()  "
   ]
  },
  {
   "cell_type": "code",
   "execution_count": null,
   "id": "2902e0c9",
   "metadata": {},
   "outputs": [],
   "source": []
  }
 ],
 "metadata": {
  "kaggle": {
   "accelerator": "none",
   "dataSources": [
    {
     "datasetId": 4467639,
     "sourceId": 7661850,
     "sourceType": "datasetVersion"
    }
   ],
   "dockerImageVersionId": 30646,
   "isGpuEnabled": false,
   "isInternetEnabled": true,
   "language": "python",
   "sourceType": "notebook"
  },
  "kernelspec": {
   "display_name": "Python 3",
   "language": "python",
   "name": "python3"
  },
  "language_info": {
   "codemirror_mode": {
    "name": "ipython",
    "version": 3
   },
   "file_extension": ".py",
   "mimetype": "text/x-python",
   "name": "python",
   "nbconvert_exporter": "python",
   "pygments_lexer": "ipython3",
   "version": "3.12.4"
  },
  "papermill": {
   "default_parameters": {},
   "duration": 8.530548,
   "end_time": "2024-02-20T08:18:54.369912",
   "environment_variables": {},
   "exception": null,
   "input_path": "__notebook__.ipynb",
   "output_path": "__notebook__.ipynb",
   "parameters": {},
   "start_time": "2024-02-20T08:18:45.839364",
   "version": "2.5.0"
  }
 },
 "nbformat": 4,
 "nbformat_minor": 5
}
